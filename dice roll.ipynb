{
 "cells": [
  {
   "cell_type": "code",
   "execution_count": 1,
   "id": "f174850e-fbef-47d5-9bf8-9973711cf49b",
   "metadata": {},
   "outputs": [],
   "source": [
    "import random"
   ]
  },
  {
   "cell_type": "code",
   "execution_count": 7,
   "id": "5ffa69d3-a7a3-4dd7-a062-b82e1c0e0276",
   "metadata": {},
   "outputs": [],
   "source": [
    "def roll_dice():\n",
    "    return random.randint(1,6)"
   ]
  },
  {
   "cell_type": "code",
   "execution_count": 9,
   "id": "f43fb62a-9564-4643-976b-03ef0c0f41d9",
   "metadata": {},
   "outputs": [
    {
     "data": {
      "text/plain": [
       "2"
      ]
     },
     "execution_count": 9,
     "metadata": {},
     "output_type": "execute_result"
    }
   ],
   "source": [
    "roll_dice()"
   ]
  },
  {
   "cell_type": "code",
   "execution_count": 11,
   "id": "6d5b8096-c29a-4cd5-a14a-92ffc4bb93b1",
   "metadata": {},
   "outputs": [
    {
     "data": {
      "text/plain": [
       "3"
      ]
     },
     "execution_count": 11,
     "metadata": {},
     "output_type": "execute_result"
    }
   ],
   "source": [
    "roll_dice()"
   ]
  },
  {
   "cell_type": "code",
   "execution_count": 19,
   "id": "0daae5b2-8311-4b01-8bd5-583d6ea1e533",
   "metadata": {},
   "outputs": [
    {
     "name": "stdin",
     "output_type": "stream",
     "text": [
      "Roll the dice? (y/n):  y\n"
     ]
    },
    {
     "name": "stdout",
     "output_type": "stream",
     "text": [
      "\n",
      "You rolled a 3 🎲\n",
      "---------\n",
      "| o     |\n",
      "|   o   |\n",
      "|     o |\n",
      "---------\n"
     ]
    },
    {
     "name": "stdin",
     "output_type": "stream",
     "text": [
      "Roll the dice? (y/n):  y\n"
     ]
    },
    {
     "name": "stdout",
     "output_type": "stream",
     "text": [
      "\n",
      "You rolled a 3 🎲\n",
      "---------\n",
      "| o     |\n",
      "|   o   |\n",
      "|     o |\n",
      "---------\n"
     ]
    },
    {
     "name": "stdin",
     "output_type": "stream",
     "text": [
      "Roll the dice? (y/n):  n\n"
     ]
    },
    {
     "name": "stdout",
     "output_type": "stream",
     "text": [
      "Goodbye, Catch you later! \n"
     ]
    }
   ],
   "source": [
    "\n",
    "while True:\n",
    "    user_input = input(\"Roll the dice? (y/n): \").lower()\n",
    "\n",
    "    if user_input == 'y':\n",
    "        result = roll_dice()\n",
    "        print(f\"\\nYou rolled a {result} 🎲\")\n",
    "\n",
    "        dice_faces = {\n",
    "            1: (\n",
    "                \"---------\\n\"\n",
    "                \"|       |\\n\"\n",
    "                \"|   o   |\\n\"\n",
    "                \"|       |\\n\"\n",
    "                \"---------\"\n",
    "            ),\n",
    "            2: (\n",
    "                \"---------\\n\"\n",
    "                \"| o     |\\n\"\n",
    "                \"|       |\\n\"\n",
    "                \"|     o |\\n\"\n",
    "                \"---------\"\n",
    "            ),\n",
    "            3: (\n",
    "                \"---------\\n\"\n",
    "                \"| o     |\\n\"\n",
    "                \"|   o   |\\n\"\n",
    "                \"|     o |\\n\"\n",
    "                \"---------\"\n",
    "            ),\n",
    "            4: (\n",
    "                \"---------\\n\"\n",
    "                \"| o   o |\\n\"\n",
    "                \"|       |\\n\"\n",
    "                \"| o   o |\\n\"\n",
    "                \"---------\"\n",
    "            ),\n",
    "            5: (\n",
    "                \"---------\\n\"\n",
    "                \"| o   o |\\n\"\n",
    "                \"|   o   |\\n\"\n",
    "                \"| o   o |\\n\"\n",
    "                \"---------\"\n",
    "            ),\n",
    "            6: (\n",
    "                \"---------\\n\"\n",
    "                \"| o   o |\\n\"\n",
    "                \"| o   o |\\n\"\n",
    "                \"| o   o |\\n\"\n",
    "                \"---------\"\n",
    "            )\n",
    "        }\n",
    "\n",
    "        print(dice_faces[result])  \n",
    "\n",
    "    elif user_input == 'n':\n",
    "        print(\"Goodbye, Catch you later! \")\n",
    "        break\n",
    "    else:\n",
    "        print(\"Please type 'y' to roll or 'n' to quit.\")\n"
   ]
  },
  {
   "cell_type": "code",
   "execution_count": null,
   "id": "762c3698-1041-4cb5-b962-8f1924abac7c",
   "metadata": {},
   "outputs": [],
   "source": []
  }
 ],
 "metadata": {
  "kernelspec": {
   "display_name": "Python 3 (ipykernel)",
   "language": "python",
   "name": "python3"
  },
  "language_info": {
   "codemirror_mode": {
    "name": "ipython",
    "version": 3
   },
   "file_extension": ".py",
   "mimetype": "text/x-python",
   "name": "python",
   "nbconvert_exporter": "python",
   "pygments_lexer": "ipython3",
   "version": "3.12.4"
  }
 },
 "nbformat": 4,
 "nbformat_minor": 5
}
