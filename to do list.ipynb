{
 "cells": [
  {
   "cell_type": "code",
   "execution_count": 42,
   "id": "22d308ca-90d9-4bb3-a2ad-258c8001567e",
   "metadata": {},
   "outputs": [],
   "source": [
    "tasks = [\n",
    "    {'task_id': 1, 'description': 'Buy groceries', 'status': 'Not Completed', 'priority': 'High'},\n",
    "    {'task_id': 2, 'description': 'Write Python code', 'status': 'Not Completed', 'priority': 'Medium'}\n",
    "]"
   ]
  },
  {
   "cell_type": "code",
   "execution_count": 44,
   "id": "3f338fa4-3645-4817-828b-9b86f61b8fa8",
   "metadata": {},
   "outputs": [
    {
     "data": {
      "text/plain": [
       "{'task_id': 2,\n",
       " 'description': 'Write Python code',\n",
       " 'status': 'Not Completed',\n",
       " 'priority': 'Medium'}"
      ]
     },
     "execution_count": 44,
     "metadata": {},
     "output_type": "execute_result"
    }
   ],
   "source": [
    "tasks[1]"
   ]
  },
  {
   "cell_type": "code",
   "execution_count": 74,
   "id": "27e4bfbd-4fa8-4217-9c51-5dffdd2d3b66",
   "metadata": {},
   "outputs": [],
   "source": [
    "def add_task():\n",
    "    added_id = input('enter a task id ')\n",
    "    added_description =input ('enter a description')\n",
    "    added_status = input('enter a status')\n",
    "    added_priority = input('enter the priority')\n",
    "    tasks.append({'task_id': added_id, 'description': added_description, 'status': added_status, 'priority': added_priority})\n",
    "    return tasks"
   ]
  },
  {
   "cell_type": "code",
   "execution_count": 76,
   "id": "66f6f56b-b571-45c0-93b7-5ce75dea7777",
   "metadata": {},
   "outputs": [
    {
     "name": "stdin",
     "output_type": "stream",
     "text": [
      "enter a task id  1\n",
      "enter a description 2\n",
      "enter a status 3\n",
      "enter the priority 4\n"
     ]
    },
    {
     "data": {
      "text/plain": [
       "[{'task_id': 1,\n",
       "  'description': 'Buy groceries',\n",
       "  'status': 'Not Completed',\n",
       "  'priority': 'High'},\n",
       " {'task_id': 2,\n",
       "  'description': 'Write Python code',\n",
       "  'status': 'Not Completed',\n",
       "  'priority': 'Medium'},\n",
       " 1,\n",
       " {'task_id': '1', 'description': 'asd', 'status': 'ss', 'priority': 'kfk'},\n",
       " {'task_id': '1', 'description': '2', 'status': '3', 'priority': '4'}]"
      ]
     },
     "execution_count": 76,
     "metadata": {},
     "output_type": "execute_result"
    }
   ],
   "source": [
    "add_task()"
   ]
  },
  {
   "cell_type": "code",
   "execution_count": 122,
   "id": "085468b8-2200-45c1-9210-aec3a7abcf1b",
   "metadata": {},
   "outputs": [],
   "source": [
    "def delete_task_by_id(task_id_to_delete):\n",
    "    for task in tasks:\n",
    "        if task['task_id'] == task_id_to_delete:\n",
    "            tasks.remove(task)  \n",
    "            print(f\"Task with task_id {task_id_to_delete} has been deleted.\")\n",
    "            return \n",
    "    print(f\"Task with task_id {task_id_to_delete} not found.\") "
   ]
  },
  {
   "cell_type": "code",
   "execution_count": 124,
   "id": "23981105-b247-487b-a59c-7e7e4ed03fd0",
   "metadata": {},
   "outputs": [
    {
     "data": {
      "text/plain": [
       "[{'task_id': 2,\n",
       "  'description': 'Write Python code',\n",
       "  'status': 'Not Completed',\n",
       "  'priority': 'Medium'},\n",
       " 1,\n",
       " {'task_id': '1', 'description': 'asd', 'status': 'ss', 'priority': 'kfk'},\n",
       " {'task_id': '1', 'description': '2', 'status': '3', 'priority': '4'}]"
      ]
     },
     "execution_count": 124,
     "metadata": {},
     "output_type": "execute_result"
    }
   ],
   "source": [
    "tasks"
   ]
  },
  {
   "cell_type": "code",
   "execution_count": 144,
   "id": "0fbeb560-7fd4-469f-a04c-124df0386046",
   "metadata": {},
   "outputs": [],
   "source": [
    "def view_tasks():\n",
    "    if not tasks:\n",
    "        return \"No tasks available.\"\n",
    "    \n",
    "    for task in tasks:  \n",
    "        print(f'Task ID: {task[\"task_id\"]}')  \n",
    "        print(f'Description: {task[\"description\"]}')  \n",
    "        print(f'Status: {task[\"status\"]}')  \n",
    "        print(f'Priority: {task[\"priority\"]}')  \n",
    "        print('-----' * 10)  \n"
   ]
  },
  {
   "cell_type": "code",
   "execution_count": 146,
   "id": "4dadb5e3-0db4-4369-b7dc-abad3c2ffade",
   "metadata": {},
   "outputs": [
    {
     "name": "stdout",
     "output_type": "stream",
     "text": [
      "Task ID: 2\n",
      "Description: Write Python code\n",
      "Status: Not Completed\n",
      "Priority: Medium\n",
      "--------------------------------------------------\n",
      "Task ID: 1\n",
      "Description: asd\n",
      "Status: ss\n",
      "Priority: kfk\n",
      "--------------------------------------------------\n",
      "Task ID: 1\n",
      "Description: 2\n",
      "Status: 3\n",
      "Priority: 4\n",
      "--------------------------------------------------\n"
     ]
    }
   ],
   "source": [
    "view_tasks()"
   ]
  },
  {
   "cell_type": "code",
   "execution_count": 164,
   "id": "57cfe066-d8dd-4c6b-83b8-499b1853e6ae",
   "metadata": {},
   "outputs": [],
   "source": [
    "def mark_task_completed(task_id):\n",
    "    for task in tasks:\n",
    "        if task['task_id'] == task_id:\n",
    "            if task['status'] == 'Completed':\n",
    "                return 'This task is already completed.'\n",
    "            else:\n",
    "                task['status'] = 'Completed'\n",
    "                return f\"Task {task_id} marked as completed!\"\n",
    "    \n",
    "    return 'Task ID not found.'\n",
    "\n"
   ]
  },
  {
   "cell_type": "code",
   "execution_count": 172,
   "id": "9af9ddcd-2a76-4947-9c51-65a5bd779656",
   "metadata": {},
   "outputs": [
    {
     "data": {
      "text/plain": [
       "'Task ID not found.'"
      ]
     },
     "execution_count": 172,
     "metadata": {},
     "output_type": "execute_result"
    }
   ],
   "source": [
    "mark_task_completed(5)"
   ]
  },
  {
   "cell_type": "code",
   "execution_count": 174,
   "id": "a884a853-34d4-4440-965e-6060b3ff09e5",
   "metadata": {},
   "outputs": [
    {
     "data": {
      "text/plain": [
       "'This task is already completed.'"
      ]
     },
     "execution_count": 174,
     "metadata": {},
     "output_type": "execute_result"
    }
   ],
   "source": [
    "mark_task_completed(2)"
   ]
  },
  {
   "cell_type": "code",
   "execution_count": 202,
   "id": "2b154111-2f57-454a-a360-33ec646e9d09",
   "metadata": {},
   "outputs": [],
   "source": [
    "def edit_task(task_id):\n",
    "    for task in tasks:\n",
    "        if task['task_id'] == task_id:\n",
    "            answer = input('Do you want to change Description or Priority? ').capitalize()\n",
    "            \n",
    "            if answer == 'Description':\n",
    "                new_description = input('Enter the new description: ')\n",
    "                task['description'] = new_description  \n",
    "\n",
    "            elif answer == 'Priority':\n",
    "                new_priority = input('Enter the new priority: ')\n",
    "                task['priority'] = new_priority  \n",
    "\n",
    "            else:\n",
    "                return \"Invalid option. Please choose either 'Description' or 'Priority'.\"\n",
    "            \n",
    "            return f\"Task {task_id} updated successfully!\"  \n",
    "    \n",
    "    return f\"Task with ID {task_id} not found.\"  "
   ]
  },
  {
   "cell_type": "code",
   "execution_count": 204,
   "id": "05c1a07a-03e8-4eab-afd2-496ec0e80c86",
   "metadata": {},
   "outputs": [
    {
     "name": "stdin",
     "output_type": "stream",
     "text": [
      "Do you want to change Description or Priority?  priority\n",
      "Enter the new priority:  high\n"
     ]
    },
    {
     "data": {
      "text/plain": [
       "'Task 2 updated successfully!'"
      ]
     },
     "execution_count": 204,
     "metadata": {},
     "output_type": "execute_result"
    }
   ],
   "source": [
    "edit_task(2)"
   ]
  },
  {
   "cell_type": "code",
   "execution_count": 214,
   "id": "0398f4fb-a26c-4304-a321-0268bf6e1d67",
   "metadata": {},
   "outputs": [],
   "source": [
    "def save_tasks_to_file(filename):\n",
    "    # Open the file in write mode\n",
    "    with open(filename, 'w') as file:\n",
    "        # Iterate over the tasks\n",
    "        for task in tasks:\n",
    "            file.write(f\"Task ID: {task['task_id']}, Description: {task['description']}, Status: {task['status']}, Priority: {task['priority']}\\n\")\n",
    "    # No need to call file.close() because 'with' will automatically close the file after the block.\n",
    "    "
   ]
  },
  {
   "cell_type": "code",
   "execution_count": 232,
   "id": "c008c889-531b-4b54-9b10-7c5627b29919",
   "metadata": {},
   "outputs": [],
   "source": [
    "save_tasks_to_file('abc')"
   ]
  },
  {
   "cell_type": "code",
   "execution_count": 234,
   "id": "dd4d21d1-bc9a-44d5-ae74-f6b72b10643a",
   "metadata": {},
   "outputs": [
    {
     "ename": "FileNotFoundError",
     "evalue": "[Errno 2] No such file or directory: 'abc.txt'",
     "output_type": "error",
     "traceback": [
      "\u001b[1;31m---------------------------------------------------------------------------\u001b[0m",
      "\u001b[1;31mFileNotFoundError\u001b[0m                         Traceback (most recent call last)",
      "Cell \u001b[1;32mIn[234], line 1\u001b[0m\n\u001b[1;32m----> 1\u001b[0m file \u001b[38;5;241m=\u001b[39m \u001b[38;5;28mopen\u001b[39m(\u001b[38;5;124m'\u001b[39m\u001b[38;5;124mabc.txt\u001b[39m\u001b[38;5;124m'\u001b[39m, \u001b[38;5;124m'\u001b[39m\u001b[38;5;124mr\u001b[39m\u001b[38;5;124m'\u001b[39m)\n",
      "File \u001b[1;32m~\\anaconda3\\Lib\\site-packages\\IPython\\core\\interactiveshell.py:324\u001b[0m, in \u001b[0;36m_modified_open\u001b[1;34m(file, *args, **kwargs)\u001b[0m\n\u001b[0;32m    317\u001b[0m \u001b[38;5;28;01mif\u001b[39;00m file \u001b[38;5;129;01min\u001b[39;00m {\u001b[38;5;241m0\u001b[39m, \u001b[38;5;241m1\u001b[39m, \u001b[38;5;241m2\u001b[39m}:\n\u001b[0;32m    318\u001b[0m     \u001b[38;5;28;01mraise\u001b[39;00m \u001b[38;5;167;01mValueError\u001b[39;00m(\n\u001b[0;32m    319\u001b[0m         \u001b[38;5;124mf\u001b[39m\u001b[38;5;124m\"\u001b[39m\u001b[38;5;124mIPython won\u001b[39m\u001b[38;5;124m'\u001b[39m\u001b[38;5;124mt let you open fd=\u001b[39m\u001b[38;5;132;01m{\u001b[39;00mfile\u001b[38;5;132;01m}\u001b[39;00m\u001b[38;5;124m by default \u001b[39m\u001b[38;5;124m\"\u001b[39m\n\u001b[0;32m    320\u001b[0m         \u001b[38;5;124m\"\u001b[39m\u001b[38;5;124mas it is likely to crash IPython. If you know what you are doing, \u001b[39m\u001b[38;5;124m\"\u001b[39m\n\u001b[0;32m    321\u001b[0m         \u001b[38;5;124m\"\u001b[39m\u001b[38;5;124myou can use builtins\u001b[39m\u001b[38;5;124m'\u001b[39m\u001b[38;5;124m open.\u001b[39m\u001b[38;5;124m\"\u001b[39m\n\u001b[0;32m    322\u001b[0m     )\n\u001b[1;32m--> 324\u001b[0m \u001b[38;5;28;01mreturn\u001b[39;00m io_open(file, \u001b[38;5;241m*\u001b[39margs, \u001b[38;5;241m*\u001b[39m\u001b[38;5;241m*\u001b[39mkwargs)\n",
      "\u001b[1;31mFileNotFoundError\u001b[0m: [Errno 2] No such file or directory: 'abc.txt'"
     ]
    }
   ],
   "source": [
    "file = open('abc.txt', 'r')\n"
   ]
  },
  {
   "cell_type": "code",
   "execution_count": 240,
   "id": "e34b1b97-2f81-4607-ad35-789884852b07",
   "metadata": {},
   "outputs": [],
   "source": [
    "save_tasks_to_file('python')"
   ]
  },
  {
   "cell_type": "code",
   "execution_count": 242,
   "id": "c450bc32-2c54-4d2d-a303-9d4deb14d823",
   "metadata": {},
   "outputs": [
    {
     "ename": "FileNotFoundError",
     "evalue": "[Errno 2] No such file or directory: 'python.txt'",
     "output_type": "error",
     "traceback": [
      "\u001b[1;31m---------------------------------------------------------------------------\u001b[0m",
      "\u001b[1;31mFileNotFoundError\u001b[0m                         Traceback (most recent call last)",
      "Cell \u001b[1;32mIn[242], line 1\u001b[0m\n\u001b[1;32m----> 1\u001b[0m file \u001b[38;5;241m=\u001b[39m \u001b[38;5;28mopen\u001b[39m(\u001b[38;5;124m'\u001b[39m\u001b[38;5;124mpython.txt\u001b[39m\u001b[38;5;124m'\u001b[39m, \u001b[38;5;124m'\u001b[39m\u001b[38;5;124mr\u001b[39m\u001b[38;5;124m'\u001b[39m)\n",
      "File \u001b[1;32m~\\anaconda3\\Lib\\site-packages\\IPython\\core\\interactiveshell.py:324\u001b[0m, in \u001b[0;36m_modified_open\u001b[1;34m(file, *args, **kwargs)\u001b[0m\n\u001b[0;32m    317\u001b[0m \u001b[38;5;28;01mif\u001b[39;00m file \u001b[38;5;129;01min\u001b[39;00m {\u001b[38;5;241m0\u001b[39m, \u001b[38;5;241m1\u001b[39m, \u001b[38;5;241m2\u001b[39m}:\n\u001b[0;32m    318\u001b[0m     \u001b[38;5;28;01mraise\u001b[39;00m \u001b[38;5;167;01mValueError\u001b[39;00m(\n\u001b[0;32m    319\u001b[0m         \u001b[38;5;124mf\u001b[39m\u001b[38;5;124m\"\u001b[39m\u001b[38;5;124mIPython won\u001b[39m\u001b[38;5;124m'\u001b[39m\u001b[38;5;124mt let you open fd=\u001b[39m\u001b[38;5;132;01m{\u001b[39;00mfile\u001b[38;5;132;01m}\u001b[39;00m\u001b[38;5;124m by default \u001b[39m\u001b[38;5;124m\"\u001b[39m\n\u001b[0;32m    320\u001b[0m         \u001b[38;5;124m\"\u001b[39m\u001b[38;5;124mas it is likely to crash IPython. If you know what you are doing, \u001b[39m\u001b[38;5;124m\"\u001b[39m\n\u001b[0;32m    321\u001b[0m         \u001b[38;5;124m\"\u001b[39m\u001b[38;5;124myou can use builtins\u001b[39m\u001b[38;5;124m'\u001b[39m\u001b[38;5;124m open.\u001b[39m\u001b[38;5;124m\"\u001b[39m\n\u001b[0;32m    322\u001b[0m     )\n\u001b[1;32m--> 324\u001b[0m \u001b[38;5;28;01mreturn\u001b[39;00m io_open(file, \u001b[38;5;241m*\u001b[39margs, \u001b[38;5;241m*\u001b[39m\u001b[38;5;241m*\u001b[39mkwargs)\n",
      "\u001b[1;31mFileNotFoundError\u001b[0m: [Errno 2] No such file or directory: 'python.txt'"
     ]
    }
   ],
   "source": [
    "file = open('python.txt', 'r')"
   ]
  },
  {
   "cell_type": "code",
   "execution_count": 244,
   "id": "ef5d3ec5-c311-40fe-96f9-14d5a8bc3628",
   "metadata": {},
   "outputs": [
    {
     "name": "stdout",
     "output_type": "stream",
     "text": [
      "C:\\Users\\giorg\\Projects\n"
     ]
    }
   ],
   "source": [
    "import os\n",
    "print(os.getcwd())"
   ]
  },
  {
   "cell_type": "code",
   "execution_count": 246,
   "id": "f017efe1-c069-4202-b822-c30a56ac0f65",
   "metadata": {},
   "outputs": [
    {
     "name": "stdout",
     "output_type": "stream",
     "text": [
      " Volume in drive C is Windows\n",
      " Volume Serial Number is 5A98-8809\n",
      "\n",
      " Directory of C:\\Users\\giorg\\Projects\n",
      "\n",
      "\n",
      " Directory of C:\\Users\\giorg\\Projects\n",
      "\n",
      "\n",
      " Directory of C:\\Users\\giorg\\Projects\n",
      "\n",
      "\n",
      " Directory of C:\\Users\\giorg\\Projects\n",
      "\n",
      "\n",
      " Directory of C:\\Users\\giorg\\Projects\n",
      "\n",
      "\n",
      " Directory of C:\\Users\\giorg\\Projects\n",
      "\n",
      "\n",
      " Directory of C:\\Users\\giorg\\Projects\n",
      "\n",
      "\n",
      " Directory of C:\\Users\\giorg\\Projects\n",
      "\n",
      "\n",
      " Directory of C:\\Users\\giorg\\Projects\n",
      "\n",
      "\n",
      " Directory of C:\\Users\\giorg\\Projects\n",
      "\n"
     ]
    },
    {
     "name": "stderr",
     "output_type": "stream",
     "text": [
      "File Not Found\n"
     ]
    }
   ],
   "source": [
    "!dir  # This lists files in the current directory for Windows\n"
   ]
  },
  {
   "cell_type": "code",
   "execution_count": 249,
   "id": "87bb6b67-90d2-43a7-bfa9-d7bd46973b72",
   "metadata": {},
   "outputs": [],
   "source": [
    "file = open('abc', 'r')"
   ]
  },
  {
   "cell_type": "code",
   "execution_count": 251,
   "id": "f929e3fc-fc80-47a7-9474-afb88041886c",
   "metadata": {},
   "outputs": [
    {
     "data": {
      "text/plain": [
       "<_io.TextIOWrapper name='abc' mode='r' encoding='cp1252'>"
      ]
     },
     "execution_count": 251,
     "metadata": {},
     "output_type": "execute_result"
    }
   ],
   "source": [
    "file"
   ]
  },
  {
   "cell_type": "code",
   "execution_count": 253,
   "id": "42de2e3f-74f8-4585-bb5f-e2552b8ee6bd",
   "metadata": {},
   "outputs": [
    {
     "data": {
      "text/plain": [
       "'Task ID: 2, Description: Write Python code, Status: Completed, Priority: high\\nTask ID: 1, Description: asd, Status: ss, Priority: kfk\\nTask ID: 1, Description: 2, Status: 3, Priority: 4\\n'"
      ]
     },
     "execution_count": 253,
     "metadata": {},
     "output_type": "execute_result"
    }
   ],
   "source": [
    "file.read()"
   ]
  },
  {
   "cell_type": "code",
   "execution_count": 255,
   "id": "8ac3a087-912f-45c1-9fdc-acc2084fe356",
   "metadata": {},
   "outputs": [],
   "source": [
    "import json\n"
   ]
  },
  {
   "cell_type": "code",
   "execution_count": 257,
   "id": "a14daf08-a7d1-4c07-b573-0b7bfd939d63",
   "metadata": {},
   "outputs": [],
   "source": [
    "def load_tasks_from_file(filename):\n",
    "    global tasks\n",
    "    try:\n",
    "        with open(filename, 'r') as file:\n",
    "            tasks = json.load(file)  # loads and converts JSON to a Python list\n",
    "    except FileNotFoundError:\n",
    "        tasks = []  # if file doesn't exist yet, start with empty list\n",
    "    except json.JSONDecodeError:\n",
    "        tasks = []  # if file is empty or broken, also start fresh\n"
   ]
  },
  {
   "cell_type": "code",
   "execution_count": null,
   "id": "f4aa3cf7-eb70-49d3-8d25-ceb44f84e659",
   "metadata": {},
   "outputs": [],
   "source": []
  }
 ],
 "metadata": {
  "kernelspec": {
   "display_name": "Python 3 (ipykernel)",
   "language": "python",
   "name": "python3"
  },
  "language_info": {
   "codemirror_mode": {
    "name": "ipython",
    "version": 3
   },
   "file_extension": ".py",
   "mimetype": "text/x-python",
   "name": "python",
   "nbconvert_exporter": "python",
   "pygments_lexer": "ipython3",
   "version": "3.12.4"
  }
 },
 "nbformat": 4,
 "nbformat_minor": 5
}
