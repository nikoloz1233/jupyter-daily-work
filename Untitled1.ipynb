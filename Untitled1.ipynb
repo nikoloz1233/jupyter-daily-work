{
 "cells": [
  {
   "cell_type": "code",
   "execution_count": 59,
   "id": "51ff0421-2fec-402f-97d8-3e67f4e736e6",
   "metadata": {},
   "outputs": [],
   "source": [
    "def roman_ints():\n",
    "    roman_map = {\n",
    "        \"I\": 1,\n",
    "        \"V\": 5,\n",
    "        \"X\": 10,\n",
    "        \"L\": 50,\n",
    "        \"C\": 100,\n",
    "        \"D\": 500,\n",
    "        \"M\": 1000\n",
    "    }\n",
    "\n",
    "    reversed_dict = {value: key for key, value in roman_map.items()}\n",
    "    for a in range(1, 8):   \n",
    "        print(reversed_dict.get(a))\n"
   ]
  },
  {
   "cell_type": "code",
   "execution_count": 61,
   "id": "33163897-f68c-4337-af97-f7fde8df2cc1",
   "metadata": {},
   "outputs": [
    {
     "name": "stdout",
     "output_type": "stream",
     "text": [
      "I\n",
      "None\n",
      "None\n",
      "None\n",
      "V\n",
      "None\n",
      "None\n"
     ]
    }
   ],
   "source": [
    "roman_ints()"
   ]
  },
  {
   "cell_type": "code",
   "execution_count": 31,
   "id": "13d37472-1a66-4f04-9186-3962dfd249ef",
   "metadata": {},
   "outputs": [],
   "source": [
    "a = 'adsas'"
   ]
  },
  {
   "cell_type": "code",
   "execution_count": 33,
   "id": "fef1018e-d084-49a0-848b-454a99823a0c",
   "metadata": {},
   "outputs": [],
   "source": [
    "i = [1,2,3,4,5]"
   ]
  },
  {
   "cell_type": "code",
   "execution_count": 55,
   "id": "bc8edf72-9945-455b-ad65-ca1d5508fec7",
   "metadata": {},
   "outputs": [],
   "source": [
    "my_set = set()\n"
   ]
  },
  {
   "cell_type": "code",
   "execution_count": 89,
   "id": "b1f18973-1ae6-4794-a34d-d5e8b3de3a8b",
   "metadata": {},
   "outputs": [
    {
     "name": "stdout",
     "output_type": "stream",
     "text": [
      "{'a'}\n"
     ]
    }
   ],
   "source": [
    "def asa():\n",
    "    a = 'adsas'\n",
    "    seen = set()\n",
    "    duplicates = set()\n",
    "\n",
    "    for char in a:\n",
    "        if char in seen:\n",
    "            duplicates.add(char)\n",
    "            if len(duplicates) == 1:\n",
    "                break\n",
    "        else:\n",
    "            seen.add(char)\n",
    "\n",
    "    print(duplicates)\n",
    "\n",
    "asa()\n",
    "\n",
    "\n"
   ]
  },
  {
   "cell_type": "code",
   "execution_count": 97,
   "id": "32a4f643-999f-412a-afb9-82c1a2af74aa",
   "metadata": {},
   "outputs": [],
   "source": [
    "b = a + 1\n",
    "c = a + 2\n",
    "num = a + b + c\n",
    "def sumOfThree(num):\n",
    "    while 4<num<15:\n",
    "        return num"
   ]
  },
  {
   "cell_type": "code",
   "execution_count": 103,
   "id": "3b35dd07-3e10-4285-a6f6-ebbad7a51401",
   "metadata": {},
   "outputs": [
    {
     "ename": "SyntaxError",
     "evalue": "invalid syntax (3835659424.py, line 1)",
     "output_type": "error",
     "traceback": [
      "\u001b[1;36m  Cell \u001b[1;32mIn[103], line 1\u001b[1;36m\u001b[0m\n\u001b[1;33m    def sumOfThree(2)\u001b[0m\n\u001b[1;37m                   ^\u001b[0m\n\u001b[1;31mSyntaxError\u001b[0m\u001b[1;31m:\u001b[0m invalid syntax\n"
     ]
    }
   ],
   "source": [
    "def sumOfThree(2)"
   ]
  },
  {
   "cell_type": "code",
   "execution_count": 105,
   "id": "ea7edd1a-34b9-4036-b500-9e032063d170",
   "metadata": {},
   "outputs": [],
   "source": [
    "def sumOfThree(num):\n",
    "    if (num - 3) % 3 != 0:\n",
    "        return []\n",
    "    x = (num - 3) // 3\n",
    "    return [x, x + 1, x + 2]\n"
   ]
  },
  {
   "cell_type": "code",
   "execution_count": 109,
   "id": "3bd64609-4761-4612-a72c-03711e508840",
   "metadata": {},
   "outputs": [
    {
     "data": {
      "text/plain": [
       "[1, 2, 3]"
      ]
     },
     "execution_count": 109,
     "metadata": {},
     "output_type": "execute_result"
    }
   ],
   "source": [
    "sumOfThree(6)"
   ]
  },
  {
   "cell_type": "code",
   "execution_count": 134,
   "id": "c6a72dc9-f45f-4ffc-a74b-a333fef159ee",
   "metadata": {},
   "outputs": [],
   "source": [
    "def maximumEvenSplit(finalSum):\n",
    "    num_list = []\n",
    "    a = 2\n",
    "    while a !=finalSum:\n",
    "        a += 2\n",
    "        num_list.append(a)\n",
    "    return num_list\n",
    "    "
   ]
  },
  {
   "cell_type": "code",
   "execution_count": 136,
   "id": "6bdbf6bd-10d9-40bb-a755-4c9c3fcdf110",
   "metadata": {},
   "outputs": [
    {
     "data": {
      "text/plain": [
       "[4, 6, 8, 10, 12]"
      ]
     },
     "execution_count": 136,
     "metadata": {},
     "output_type": "execute_result"
    }
   ],
   "source": [
    "maximumEvenSplit(12)"
   ]
  },
  {
   "cell_type": "code",
   "execution_count": 25,
   "id": "f0bda37d-fdae-4e4c-9563-f00ff84ebb54",
   "metadata": {},
   "outputs": [],
   "source": [
    "a = [1,2,3]"
   ]
  },
  {
   "cell_type": "code",
   "execution_count": 27,
   "id": "19d8ede0-3d44-4aa2-927b-6d5990fb20fb",
   "metadata": {},
   "outputs": [],
   "source": [
    "b = [1,3,3]"
   ]
  },
  {
   "cell_type": "code",
   "execution_count": 29,
   "id": "c8626fae-bff3-4d54-aa96-cc2e306e5419",
   "metadata": {},
   "outputs": [
    {
     "name": "stdout",
     "output_type": "stream",
     "text": [
      "as\n"
     ]
    }
   ],
   "source": [
    "if a == b:\n",
    "    print('a')\n",
    "else:\n",
    "    print('as')"
   ]
  },
  {
   "cell_type": "code",
   "execution_count": 2,
   "id": "687ab0c7-ce0e-445f-8f29-ca8cf0fec690",
   "metadata": {},
   "outputs": [
    {
     "data": {
      "text/plain": [
       "'C:\\\\Users\\\\giorg\\\\Projects'"
      ]
     },
     "execution_count": 2,
     "metadata": {},
     "output_type": "execute_result"
    }
   ],
   "source": [
    "import os\n",
    "os.getcwd()\n"
   ]
  },
  {
   "cell_type": "code",
   "execution_count": null,
   "id": "94e81d09-89d5-452c-a2d0-b4b3ae970a7c",
   "metadata": {},
   "outputs": [],
   "source": []
  }
 ],
 "metadata": {
  "kernelspec": {
   "display_name": "Python 3 (ipykernel)",
   "language": "python",
   "name": "python3"
  },
  "language_info": {
   "codemirror_mode": {
    "name": "ipython",
    "version": 3
   },
   "file_extension": ".py",
   "mimetype": "text/x-python",
   "name": "python",
   "nbconvert_exporter": "python",
   "pygments_lexer": "ipython3",
   "version": "3.12.4"
  }
 },
 "nbformat": 4,
 "nbformat_minor": 5
}
