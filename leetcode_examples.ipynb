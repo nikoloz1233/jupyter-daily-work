{
 "cells": [
  {
   "cell_type": "code",
   "execution_count": 22,
   "id": "d1955327-fd88-4ed3-8d1d-3a1d5ce85a71",
   "metadata": {},
   "outputs": [],
   "source": [
    "#Two Sum\n",
    "#level easy \n",
    "\n",
    "def two_sum(nums, target):\n",
    "    for i in range(len(nums)):\n",
    "        for j in range(i + 1, len(nums)):\n",
    "            if nums[i] + nums[j] == target:\n",
    "                return [i, j]\n",
    "    return None"
   ]
  },
  {
   "cell_type": "code",
   "execution_count": 24,
   "id": "815547c3-81b9-4767-92df-8ef3fa129fe4",
   "metadata": {},
   "outputs": [
    {
     "name": "stdout",
     "output_type": "stream",
     "text": [
      "[0, 1]\n"
     ]
    }
   ],
   "source": [
    "nums = [2, 7, 11, 15]\n",
    "target = 9\n",
    "print(two_sum(nums, target))"
   ]
  },
  {
   "cell_type": "code",
   "execution_count": 97,
   "id": "3a1fad92-9f64-4ef2-b02e-a48b66360340",
   "metadata": {},
   "outputs": [],
   "source": [
    "#Count Pairs Whose Sum is Less than Target\n",
    "#level easy\n",
    "def countPairs(nums, target):\n",
    "    pair_sums = []\n",
    "    for i in range(len(nums)):\n",
    "        \n",
    "        for j in range(i + 1, len(nums)):\n",
    "            \n",
    "            if nums[i] + nums[j] < target:\n",
    "                \n",
    "                pair_sums.append(nums[i] + nums[j])\n",
    "\n",
    "    return len(pair_sums)  \n",
    "\n",
    "    \n",
    "    \n",
    "\n",
    "\n",
    "\n"
   ]
  },
  {
   "cell_type": "code",
   "execution_count": 99,
   "id": "8a552155-ab7f-4296-804e-aa5e57c50f5d",
   "metadata": {},
   "outputs": [
    {
     "name": "stdout",
     "output_type": "stream",
     "text": [
      "3\n"
     ]
    }
   ],
   "source": [
    "nums = [-1,1,2,3,1]\n",
    "target = 2\n",
    "print(countPairs(nums, target))"
   ]
  },
  {
   "cell_type": "code",
   "execution_count": 105,
   "id": "58d3c841-9643-4bab-8154-f9fcbdae368a",
   "metadata": {},
   "outputs": [
    {
     "ename": "SyntaxError",
     "evalue": "invalid syntax (2596427041.py, line 1)",
     "output_type": "error",
     "traceback": [
      "\u001b[1;36m  Cell \u001b[1;32mIn[105], line 1\u001b[1;36m\u001b[0m\n\u001b[1;33m    git add .\u001b[0m\n\u001b[1;37m        ^\u001b[0m\n\u001b[1;31mSyntaxError\u001b[0m\u001b[1;31m:\u001b[0m invalid syntax\n"
     ]
    }
   ],
   "source": [
    "git add .\n",
    "git commit -m \n",
    "git push"
   ]
  },
  {
   "cell_type": "code",
   "execution_count": null,
   "id": "6d811ba5-e279-4d26-a9a7-3e039ea4a228",
   "metadata": {},
   "outputs": [],
   "source": []
  }
 ],
 "metadata": {
  "kernelspec": {
   "display_name": "Python 3 (ipykernel)",
   "language": "python",
   "name": "python3"
  },
  "language_info": {
   "codemirror_mode": {
    "name": "ipython",
    "version": 3
   },
   "file_extension": ".py",
   "mimetype": "text/x-python",
   "name": "python",
   "nbconvert_exporter": "python",
   "pygments_lexer": "ipython3",
   "version": "3.12.4"
  }
 },
 "nbformat": 4,
 "nbformat_minor": 5
}
