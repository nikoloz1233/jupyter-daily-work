{
 "cells": [
  {
   "cell_type": "code",
   "execution_count": 15,
   "id": "d1955327-fd88-4ed3-8d1d-3a1d5ce85a71",
   "metadata": {},
   "outputs": [],
   "source": [
    "#Two Sum\n",
    "#level easy \n",
    "\n",
    "def two_sum(nums, target):\n",
    "    \n",
    "    for i in range(len(nums)):\n",
    "        \n",
    "        for j in range(i + 1, len(nums)):\n",
    "            \n",
    "            if nums[i] + nums[j] == target:\n",
    "                \n",
    "                return [i, j]\n",
    "    return None"
   ]
  },
  {
   "cell_type": "code",
   "execution_count": 17,
   "id": "815547c3-81b9-4767-92df-8ef3fa129fe4",
   "metadata": {},
   "outputs": [
    {
     "name": "stdout",
     "output_type": "stream",
     "text": [
      "[0, 1]\n"
     ]
    }
   ],
   "source": [
    "nums = [2, 7, 11, 15]\n",
    "target = 9\n",
    "print(two_sum(nums, target))"
   ]
  },
  {
   "cell_type": "code",
   "execution_count": 19,
   "id": "3a1fad92-9f64-4ef2-b02e-a48b66360340",
   "metadata": {},
   "outputs": [],
   "source": [
    "#Count Pairs Whose Sum is Less than Target\n",
    "#level easy\n",
    "def countPairs(nums, target):\n",
    "    pair_sums = []\n",
    "    \n",
    "    for i in range(len(nums)):\n",
    "        \n",
    "        for j in range(i + 1, len(nums)):\n",
    "            \n",
    "            if nums[i] + nums[j] < target:\n",
    "                \n",
    "                pair_sums.append(nums[i] + nums[j])\n",
    "\n",
    "    return len(pair_sums)  \n",
    "\n",
    "    \n",
    "    \n",
    "\n",
    "\n",
    "\n"
   ]
  },
  {
   "cell_type": "code",
   "execution_count": 21,
   "id": "8a552155-ab7f-4296-804e-aa5e57c50f5d",
   "metadata": {},
   "outputs": [
    {
     "name": "stdout",
     "output_type": "stream",
     "text": [
      "3\n"
     ]
    }
   ],
   "source": [
    "nums = [-1,1,2,3,1]\n",
    "target = 2\n",
    "print(countPairs(nums, target))"
   ]
  },
  {
   "cell_type": "code",
   "execution_count": 23,
   "id": "4cc84fe7-8a49-4fdf-8660-c3db64d6683d",
   "metadata": {},
   "outputs": [],
   "source": [
    "#Count the Number of Fair Pairs\n",
    "#level medium\n",
    "def countFairPairs(nums, lower, upper):\n",
    "    fair_pairs = []\n",
    "    \n",
    "    for i in range(len(nums)):\n",
    "        \n",
    "        \n",
    "        for j in range(i + 1, len(nums)):\n",
    "            \n",
    "            if lower <= nums[i] + nums[j] <= upper:\n",
    "                               \n",
    "                fair_pairs.append((i,j))  \n",
    "                \n",
    "    return len(fair_pairs)\n",
    "            \n",
    "            \n",
    "            "
   ]
  },
  {
   "cell_type": "code",
   "execution_count": 25,
   "id": "5ed049fb-0c23-4750-9fa0-4b26c9b75d25",
   "metadata": {},
   "outputs": [
    {
     "data": {
      "text/plain": [
       "6"
      ]
     },
     "execution_count": 25,
     "metadata": {},
     "output_type": "execute_result"
    }
   ],
   "source": [
    "nums = [0,1,7,4,4,5]\n",
    "lower = 3\n",
    "upper = 6\n",
    "countFairPairs(nums, lower, upper)"
   ]
  },
  {
   "cell_type": "code",
   "execution_count": 27,
   "id": "840f33be-0e73-454a-94a4-6a38c8086f5b",
   "metadata": {},
   "outputs": [],
   "source": [
    "fair_pairs = [(0, 3), (0, 4), (0, 5), (1, 3), (1, 4), (1, 5)]\n"
   ]
  },
  {
   "cell_type": "code",
   "execution_count": 29,
   "id": "94768bc1-748a-466c-a4df-921ee590469a",
   "metadata": {},
   "outputs": [
    {
     "data": {
      "text/plain": [
       "((0, 3), (0, 4), (0, 5), (1, 3), (1, 4), (1, 5))"
      ]
     },
     "execution_count": 29,
     "metadata": {},
     "output_type": "execute_result"
    }
   ],
   "source": [
    "tuple(fair_pairs)"
   ]
  },
  {
   "cell_type": "code",
   "execution_count": 39,
   "id": "6513429c-7cba-4d3c-ae4d-a378e393ca1b",
   "metadata": {},
   "outputs": [],
   "source": [
    "#Add Two Numbers\n",
    "#level medium\n",
    "\n",
    "\n",
    "def addTwoNumbers(l1, l2):\n",
    "    reversed_l1 = l1[::-1]\n",
    "    \n",
    "    reversed_l2 = l2[::-1]\n",
    "    \n",
    "    \n",
    "    num_l1 = \"\".join(str(x) for x in l1)  # '123'\n",
    "    num1 = int(num_l1)\n",
    "    \n",
    "    num_l2 = \"\".join(str(x) for x in l2)  # '123'\n",
    "    num2 = int(num_l2)\n",
    "\n",
    "    \n",
    "    result = num1 + num2\n",
    "\n",
    "\n",
    "    last_result = [int(d) for d in str(result)]\n",
    "\n",
    "    return last_result[::-1]\n",
    "    \n",
    "    \n",
    "    "
   ]
  },
  {
   "cell_type": "code",
   "execution_count": 41,
   "id": "797a8a87-6d20-49fe-8a10-abe23b5299ef",
   "metadata": {},
   "outputs": [
    {
     "data": {
      "text/plain": [
       "[7, 0, 8]"
      ]
     },
     "execution_count": 41,
     "metadata": {},
     "output_type": "execute_result"
    }
   ],
   "source": [
    "l1 = [2,4,3]\n",
    "l2 = [5,6,4]\n",
    "addTwoNumbers(l1, l2)"
   ]
  },
  {
   "cell_type": "code",
   "execution_count": 45,
   "id": "18c878f0-e8f4-4f42-9e0d-987dc60a3f37",
   "metadata": {},
   "outputs": [
    {
     "name": "stderr",
     "output_type": "stream",
     "text": [
      "warning: in the working copy of 'leetcode_examples.ipynb', LF will be replaced by CRLF the next time Git touches it\n",
      "error: switch `m' requires a value\n"
     ]
    }
   ],
   "source": [
    "!git add leetcode_examples.ipynb\n",
    "!git commit -m \n"
   ]
  },
  {
   "cell_type": "code",
   "execution_count": 47,
   "id": "190f2370-ab83-42d6-ad31-9f7294cc2c5a",
   "metadata": {},
   "outputs": [
    {
     "name": "stdout",
     "output_type": "stream",
     "text": [
      "On branch main\n",
      "Your branch is ahead of 'origin/main' by 2 commits.\n",
      "  (use \"git push\" to publish your local commits)\n",
      "\n",
      "Changes to be committed:\n",
      "  (use \"git restore --staged <file>...\" to unstage)\n",
      "\tmodified:   leetcode_examples.ipynb\n",
      "\n",
      "Changes not staged for commit:\n",
      "  (use \"git add <file>...\" to update what will be committed)\n",
      "  (use \"git restore <file>...\" to discard changes in working directory)\n",
      "\tmodified:   leetcode_examples.ipynb\n",
      "\n"
     ]
    }
   ],
   "source": [
    "!git status\n"
   ]
  },
  {
   "cell_type": "code",
   "execution_count": 49,
   "id": "ada9fd2c-ba13-4476-9cb6-64f2245acabb",
   "metadata": {},
   "outputs": [
    {
     "name": "stderr",
     "output_type": "stream",
     "text": [
      "warning: in the working copy of 'leetcode_examples.ipynb', LF will be replaced by CRLF the next time Git touches it\n"
     ]
    }
   ],
   "source": [
    "!git add leetcode_examples.ipynb\n"
   ]
  },
  {
   "cell_type": "code",
   "execution_count": 51,
   "id": "19a2e0e6-8284-42a3-a043-378a6410610d",
   "metadata": {},
   "outputs": [
    {
     "name": "stdout",
     "output_type": "stream",
     "text": [
      "[main b18438f] Another update\n",
      " 1 file changed, 21 insertions(+), 1 deletion(-)\n"
     ]
    }
   ],
   "source": [
    "!git commit -m \"Another update\"\n"
   ]
  },
  {
   "cell_type": "code",
   "execution_count": 53,
   "id": "5ea155f1-418c-436e-8e59-0d399eb7f42c",
   "metadata": {},
   "outputs": [
    {
     "name": "stderr",
     "output_type": "stream",
     "text": [
      "To https://github.com/nikoloz1233/jupyter-daily-work.git\n",
      "   c8532d5..b18438f  main -> main\n"
     ]
    }
   ],
   "source": [
    "!git push origin main\n"
   ]
  },
  {
   "cell_type": "code",
   "execution_count": 5,
   "id": "c0bc2a9c-5ac3-4cd8-b427-d4767aca61f0",
   "metadata": {},
   "outputs": [],
   "source": [
    "# Pow(x, n)\n",
    "# level medium\n",
    "def myPow(x, n):\n",
    "    result = x**n\n",
    "    return result\n"
   ]
  },
  {
   "cell_type": "code",
   "execution_count": 7,
   "id": "718df686-6999-4dc6-806d-16ed1b9ab1da",
   "metadata": {},
   "outputs": [
    {
     "data": {
      "text/plain": [
       "0.25"
      ]
     },
     "execution_count": 7,
     "metadata": {},
     "output_type": "execute_result"
    }
   ],
   "source": [
    "2.00000**-2"
   ]
  },
  {
   "cell_type": "code",
   "execution_count": 9,
   "id": "be77e2eb-5158-41ed-b5fb-c99a9fb8f038",
   "metadata": {},
   "outputs": [
    {
     "data": {
      "text/plain": [
       "4.41"
      ]
     },
     "execution_count": 9,
     "metadata": {},
     "output_type": "execute_result"
    }
   ],
   "source": [
    "myPow(2.1000, 2)"
   ]
  },
  {
   "cell_type": "code",
   "execution_count": 1,
   "id": "b27eabea-b4b3-41dc-abcd-92e494889fa7",
   "metadata": {},
   "outputs": [
    {
     "data": {
      "text/plain": [
       "4"
      ]
     },
     "execution_count": 1,
     "metadata": {},
     "output_type": "execute_result"
    }
   ],
   "source": [
    "a = [1,2,3,4]\n",
    "max(a)"
   ]
  },
  {
   "cell_type": "code",
   "execution_count": 9,
   "id": "e5267e0b-02dd-4736-9f10-1a9be367b3e5",
   "metadata": {},
   "outputs": [],
   "source": [
    "# Maximum Subarray\n",
    "# level medium  \n",
    "def maxSubArray(nums):\n",
    "    max_sum = current_sum = nums[0]\n",
    "\n",
    "    for num in nums[1:]:\n",
    "        current_sum = max(num, current_sum + num)  # continue or restart subarray\n",
    "        max_sum = max(max_sum, current_sum)        # update max if needed\n",
    "\n",
    "    return max_sum\n"
   ]
  },
  {
   "cell_type": "code",
   "execution_count": 11,
   "id": "5c78cfbb-949a-4875-8439-caf64b0f595d",
   "metadata": {},
   "outputs": [
    {
     "data": {
      "text/plain": [
       "6"
      ]
     },
     "execution_count": 11,
     "metadata": {},
     "output_type": "execute_result"
    }
   ],
   "source": [
    "nums = [-2,1,-3,4,-1,2,1,-5,4]\n",
    "maxSubArray(nums)\n"
   ]
  },
  {
   "cell_type": "code",
   "execution_count": 13,
   "id": "c4bc05a0-8a05-4c88-9a47-e515d16cefa2",
   "metadata": {},
   "outputs": [
    {
     "name": "stderr",
     "output_type": "stream",
     "text": [
      "warning: in the working copy of 'leetcode_examples.ipynb', LF will be replaced by CRLF the next time Git touches it\n"
     ]
    }
   ],
   "source": [
    "!git add leetcode_examples.ipynb\n"
   ]
  },
  {
   "cell_type": "code",
   "execution_count": 15,
   "id": "e5eac4ef-45ff-498c-a77e-70d17b9eeb5e",
   "metadata": {},
   "outputs": [
    {
     "name": "stdout",
     "output_type": "stream",
     "text": [
      "[main 435e0c6] Another update\n",
      " 1 file changed, 206 insertions(+), 1 deletion(-)\n"
     ]
    }
   ],
   "source": [
    "!git commit -m \"Another update\"\n"
   ]
  },
  {
   "cell_type": "code",
   "execution_count": 17,
   "id": "10350134-69b0-4ecd-b7c5-811558479f4b",
   "metadata": {},
   "outputs": [
    {
     "name": "stderr",
     "output_type": "stream",
     "text": [
      "To https://github.com/nikoloz1233/jupyter-daily-work.git\n",
      "   b18438f..435e0c6  main -> main\n"
     ]
    }
   ],
   "source": [
    "!git push origin main\n"
   ]
  },
  {
   "cell_type": "code",
   "execution_count": 19,
   "id": "aa39014e-2d1d-46b1-8520-50c910a9340c",
   "metadata": {},
   "outputs": [
    {
     "data": {
      "text/plain": [
       "[1, -3, 4, -1, 2, 1, -5, 4]"
      ]
     },
     "execution_count": 19,
     "metadata": {},
     "output_type": "execute_result"
    }
   ],
   "source": [
    "nums[1:]"
   ]
  },
  {
   "cell_type": "code",
   "execution_count": 1,
   "id": "ea653c28-99dc-4570-8276-c64d9f7b1d3d",
   "metadata": {},
   "outputs": [],
   "source": [
    "a = [[1,2], [4,5]]"
   ]
  },
  {
   "cell_type": "code",
   "execution_count": 3,
   "id": "1331befd-bde6-4743-bf5f-000bc96645d9",
   "metadata": {},
   "outputs": [
    {
     "data": {
      "text/plain": [
       "1"
      ]
     },
     "execution_count": 3,
     "metadata": {},
     "output_type": "execute_result"
    }
   ],
   "source": [
    "a[0][0]"
   ]
  },
  {
   "cell_type": "code",
   "execution_count": 15,
   "id": "b3946ee8-65de-4f5e-87b7-929d0050be84",
   "metadata": {},
   "outputs": [],
   "source": [
    "def canJump(nums):\n",
    "    max_reach = 0  \n",
    "\n",
    "    for i, num in enumerate(nums):\n",
    "        if i > max_reach:\n",
    "            return False  \n",
    "        max_reach = max(max_reach, i + num)  \n",
    "\n",
    "    return True  \n"
   ]
  },
  {
   "cell_type": "code",
   "execution_count": 17,
   "id": "ab77515a-fa65-4461-b472-6dea4d30a355",
   "metadata": {},
   "outputs": [],
   "source": [
    "!git add leetcode_examples.ipynb"
   ]
  },
  {
   "cell_type": "code",
   "execution_count": 19,
   "id": "c1364767-fe24-47cd-8292-1b88f939e14a",
   "metadata": {},
   "outputs": [
    {
     "name": "stdout",
     "output_type": "stream",
     "text": [
      "On branch main\n",
      "Your branch is up to date with 'origin/main'.\n",
      "\n",
      "nothing to commit, working tree clean\n"
     ]
    }
   ],
   "source": [
    "!git commit -m \"Another update\""
   ]
  },
  {
   "cell_type": "code",
   "execution_count": 23,
   "id": "20c8f5a2-0161-455c-8d85-3d7cce19de44",
   "metadata": {},
   "outputs": [
    {
     "name": "stderr",
     "output_type": "stream",
     "text": [
      "Everything up-to-date\n"
     ]
    }
   ],
   "source": [
    "!git push origin main"
   ]
  },
  {
   "cell_type": "code",
   "execution_count": 5,
   "id": "05d75a8b-33f3-4936-8b6a-11b08accff2e",
   "metadata": {},
   "outputs": [],
   "source": [
    "#Valid Palindrome\n",
    "#level eazy\n",
    "def isPalindrome(s):\n",
    "    cleaned = ''.join(char.lower() for char in s if char.isalnum())\n",
    "    return cleaned == cleaned[::-1]\n"
   ]
  },
  {
   "cell_type": "code",
   "execution_count": 7,
   "id": "de965465-6328-442d-9aed-82ccf446ca6a",
   "metadata": {},
   "outputs": [
    {
     "data": {
      "text/plain": [
       "False"
      ]
     },
     "execution_count": 7,
     "metadata": {},
     "output_type": "execute_result"
    }
   ],
   "source": [
    "isPalindrome('cat')"
   ]
  },
  {
   "cell_type": "code",
   "execution_count": 1,
   "id": "339d63a1-3b87-469e-8889-491006fe8149",
   "metadata": {},
   "outputs": [],
   "source": [
    "#level eazy\n",
    "def countQuadruplets(nums):\n",
    "    n = len(nums)\n",
    "    count = 0\n",
    "\n",
    "    for a in range(n):\n",
    "        for b in range(a + 1, n):\n",
    "            for c in range(b + 1, n):\n",
    "                for d in range(c + 1, n):\n",
    "                    if nums[a] + nums[b] + nums[c] == nums[d]:\n",
    "                        count += 1\n",
    "                        \n",
    "    return count\n"
   ]
  },
  {
   "cell_type": "code",
   "execution_count": 9,
   "id": "f755c275-7dd8-4ed0-9f7c-4ad3207e111d",
   "metadata": {},
   "outputs": [],
   "source": [
    "#Longest Common Prefix\n",
    "#level easy\n",
    "def longestCommonPrefix(strs):\n",
    "    if not strs:\n",
    "        return \"\"\n",
    "\n",
    "    result = \"\"\n",
    "\n",
    "    for i in range(len(strs[0])):  \n",
    "        char = strs[0][i]          \n",
    "\n",
    "        for word in strs:  \n",
    "            \n",
    "            if i >= len(word) or word[i] != char:\n",
    "                return result      \n",
    "\n",
    "        result += char             \n",
    "\n",
    "    return result\n",
    "\n"
   ]
  },
  {
   "cell_type": "code",
   "execution_count": 11,
   "id": "2d1b743f-46d8-4f7f-8cb6-5dce4fe65a76",
   "metadata": {},
   "outputs": [
    {
     "name": "stderr",
     "output_type": "stream",
     "text": [
      "warning: in the working copy of 'leetcode_examples.ipynb', LF will be replaced by CRLF the next time Git touches it\n"
     ]
    }
   ],
   "source": [
    "!git add leetcode_examples.ipynb"
   ]
  },
  {
   "cell_type": "code",
   "execution_count": 13,
   "id": "6adb60c6-fee0-4458-9d0d-4acc0cfb6fa7",
   "metadata": {},
   "outputs": [
    {
     "name": "stdout",
     "output_type": "stream",
     "text": [
      "[main 56df3bf] Another update\n",
      " 1 file changed, 44 insertions(+), 3 deletions(-)\n"
     ]
    }
   ],
   "source": [
    "!git commit -m \"Another update\""
   ]
  },
  {
   "cell_type": "code",
   "execution_count": 15,
   "id": "8fe4397f-193d-46e3-9b11-90e1badb3d81",
   "metadata": {},
   "outputs": [
    {
     "name": "stderr",
     "output_type": "stream",
     "text": [
      "To https://github.com/nikoloz1233/jupyter-daily-work.git\n",
      "   76462e5..56df3bf  main -> main\n"
     ]
    }
   ],
   "source": [
    "!git push origin main"
   ]
  },
  {
   "cell_type": "code",
   "execution_count": 39,
   "id": "a17e7568-2159-4d1b-aae8-1bda1c6b393a",
   "metadata": {},
   "outputs": [],
   "source": [
    "def substr(s):\n",
    "    storage_lst = []\n",
    "    new_s = s.split()\n",
    "    \n",
    "    for i in new_s[0]:\n",
    "        if i in new_s[1]:\n",
    "            storage_lst.append(i)\n",
    "    if ''.join(storage_lst) == new_s[0]:\n",
    "        return 1\n",
    "    else:\n",
    "        return -1\n",
    "    "
   ]
  },
  {
   "cell_type": "code",
   "execution_count": 41,
   "id": "899ee3eb-b6f3-46af-9833-2bdabe0e5ae6",
   "metadata": {},
   "outputs": [
    {
     "data": {
      "text/plain": [
       "-1"
      ]
     },
     "execution_count": 41,
     "metadata": {},
     "output_type": "execute_result"
    }
   ],
   "source": [
    "substr('adc abrdd')"
   ]
  },
  {
   "cell_type": "code",
   "execution_count": 45,
   "id": "02fa4a9f-0a88-4a3e-8166-a43a223015cd",
   "metadata": {},
   "outputs": [
    {
     "data": {
      "text/plain": [
       "1"
      ]
     },
     "execution_count": 45,
     "metadata": {},
     "output_type": "execute_result"
    }
   ],
   "source": [
    "substr('adc abbdc')"
   ]
  },
  {
   "cell_type": "code",
   "execution_count": 120,
   "id": "e943bcfe-c133-436a-b007-330931f6b36d",
   "metadata": {},
   "outputs": [],
   "source": [
    "def nums(n):\n",
    "\n",
    "    new_n = n.split()\n",
    "    count = 1\n",
    "    for i, ch  in enumerate(new_n[1]):\n",
    "        if ch == '?':\n",
    "            if  i == 0:\n",
    "                \n",
    "                count *= 9\n",
    "            else:       \n",
    "                 count *= 10\n",
    "    return count\n",
    "            \n",
    "    \n",
    "        "
   ]
  },
  {
   "cell_type": "code",
   "execution_count": 122,
   "id": "45d71266-91b1-4668-bc87-1c4d2c7bb1f0",
   "metadata": {},
   "outputs": [
    {
     "data": {
      "text/plain": [
       "90"
      ]
     },
     "execution_count": 122,
     "metadata": {},
     "output_type": "execute_result"
    }
   ],
   "source": [
    "n = '5 ?324?'\n",
    "nums(n)\n",
    "\n"
   ]
  },
  {
   "cell_type": "code",
   "execution_count": 124,
   "id": "a999a3f3-5ace-4902-8a26-8a634039a1ca",
   "metadata": {},
   "outputs": [
    {
     "data": {
      "text/plain": [
       "100"
      ]
     },
     "execution_count": 124,
     "metadata": {},
     "output_type": "execute_result"
    }
   ],
   "source": [
    "n = '1 4?5?0'\n",
    "nums(n)"
   ]
  },
  {
   "cell_type": "code",
   "execution_count": 126,
   "id": "3ce484df-b4fc-409f-a07b-085134552a30",
   "metadata": {},
   "outputs": [],
   "source": [
    "def num(n):\n",
    "    new_lst = []\n",
    "    \n",
    "    for i in n:\n",
    "        if i%2 == 0:\n",
    "            new_list.append(i)\n",
    "            \n",
    "            return  new_list\n",
    "\n",
    "            \n",
    "            \n",
    "        else:\n",
    "            return new_list\n",
    "    "
   ]
  },
  {
   "cell_type": "code",
   "execution_count": 130,
   "id": "4051effd-0c16-46bb-b022-606f0fba7244",
   "metadata": {},
   "outputs": [],
   "source": [
    "def vowels(s):\n",
    "    str_vowels = 'aeiou'\n",
    "    lst_vowels = []\n",
    "    for i in s:\n",
    "        if i in str_vowels:\n",
    "            lst_vowels.append(i)\n",
    "            return len(lst_vowels)\n",
    "        else:\n",
    "            return 0"
   ]
  },
  {
   "cell_type": "code",
   "execution_count": 132,
   "id": "0dfcf600-5cf5-49f9-89f6-a4e436dc1d2b",
   "metadata": {},
   "outputs": [],
   "source": [
    "def second_largest(nums):\n",
    "    unique_nums = list(set(nums))  # remove duplicates\n",
    "    if len(unique_nums) < 2:\n",
    "        return None\n",
    "    unique_nums.sort()\n",
    "    return unique_nums[-2]\n",
    "    "
   ]
  },
  {
   "cell_type": "code",
   "execution_count": 136,
   "id": "4b3f26f9-8ae0-4b3b-b37c-89fa9c63692e",
   "metadata": {},
   "outputs": [],
   "source": [
    "def login_check(username, password):\n",
    "    if usarname == 'admin' and password == \"qwerty123\":\n",
    "        return \"Access granted\"\n",
    "    else:\n",
    "        return 'Access denied'"
   ]
  },
  {
   "cell_type": "code",
   "execution_count": 140,
   "id": "d7b954c3-3ead-4e25-9009-e988b0df24e5",
   "metadata": {},
   "outputs": [],
   "source": [
    "def safe_divide(a, b):\n",
    "    if b == 0:\n",
    "        return 'cant devide by zero'\n",
    "    else:\n",
    "        return a/b"
   ]
  },
  {
   "cell_type": "code",
   "execution_count": 3,
   "id": "63f706dd-e8f3-42ea-b419-502fd3e1db9e",
   "metadata": {},
   "outputs": [],
   "source": [
    "def findMedianSortedArrays(nums1, nums2):\n",
    "    \n",
    "    new_nums = sorted(nums1 + nums2)\n",
    "    n = len(new_nums)\n",
    "    if len(new_nums) % 2 == 0:\n",
    "        return (new_nums[n//2]+ new_nums[n//2 - 1]) / 2.0\n",
    "    else:\n",
    "        return new_nums[(n//2)]"
   ]
  },
  {
   "cell_type": "code",
   "execution_count": 1,
   "id": "e843f3d3-9a16-46e1-879e-c0b3223db4cf",
   "metadata": {},
   "outputs": [],
   "source": [
    "def longestPalindrome(s):\n",
    "            \n",
    "            \n",
    "        max_palindrome = \"\"\n",
    "\n",
    "\n",
    "        for i in range(len(s)):\n",
    "            for j in range(i, len(s)):\n",
    "                substring = s[i:j+1]\n",
    "                if substring == substring[::-1]:\n",
    "                    if len(substring) > len(max_palindrome):\n",
    "                            max_palindrome = substring\n",
    "\n",
    "        return max_palindrome\n"
   ]
  },
  {
   "cell_type": "code",
   "execution_count": 23,
   "id": "c34d8fa8-466a-43cf-9ba0-2e0527e16020",
   "metadata": {},
   "outputs": [],
   "source": [
    "def reverse(self, x):\n",
    "    \n",
    "    \n",
    "    \n",
    "\n",
    "    sign = -1 if x < 0 else 1\n",
    "    x_abs_str = str(abs(x))          \n",
    "    reversed_str = x_abs_str[::-1]  \n",
    "    reversed_str = reversed_str.lstrip('0') \n",
    "\n",
    "    if reversed_str == '':\n",
    "        return 0\n",
    "\n",
    "    return sign * int(reversed_str)\n"
   ]
  },
  {
   "cell_type": "code",
   "execution_count": 1,
   "id": "21a233f6-48fb-4f0d-b706-382948b7bdbf",
   "metadata": {},
   "outputs": [],
   "source": [
    "def longestCommonPrefix(self, strs):\n",
    "\n",
    "        \n",
    "        \n",
    "        if not strs:\n",
    "            return \"\"\n",
    "\n",
    "        prefix = strs[0]\n",
    "\n",
    "        for word in strs[1:]:\n",
    "            while not word.startswith(prefix):\n",
    "                prefix = prefix[:-1]  # Remove last char\n",
    "                if prefix == \"\":\n",
    "                    return \"\"\n",
    "\n",
    "        return prefix\n"
   ]
  },
  {
   "cell_type": "code",
   "execution_count": null,
   "id": "9fed754e-f602-4e31-8941-cceb17d1d7f8",
   "metadata": {},
   "outputs": [],
   "source": []
  }
 ],
 "metadata": {
  "kernelspec": {
   "display_name": "Python 3 (ipykernel)",
   "language": "python",
   "name": "python3"
  },
  "language_info": {
   "codemirror_mode": {
    "name": "ipython",
    "version": 3
   },
   "file_extension": ".py",
   "mimetype": "text/x-python",
   "name": "python",
   "nbconvert_exporter": "python",
   "pygments_lexer": "ipython3",
   "version": "3.12.4"
  }
 },
 "nbformat": 4,
 "nbformat_minor": 5
}
