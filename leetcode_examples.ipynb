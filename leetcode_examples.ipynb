{
 "cells": [
  {
   "cell_type": "code",
   "execution_count": 15,
   "id": "d1955327-fd88-4ed3-8d1d-3a1d5ce85a71",
   "metadata": {},
   "outputs": [],
   "source": [
    "#Two Sum\n",
    "#level easy \n",
    "\n",
    "def two_sum(nums, target):\n",
    "    \n",
    "    for i in range(len(nums)):\n",
    "        \n",
    "        for j in range(i + 1, len(nums)):\n",
    "            \n",
    "            if nums[i] + nums[j] == target:\n",
    "                \n",
    "                return [i, j]\n",
    "    return None"
   ]
  },
  {
   "cell_type": "code",
   "execution_count": 17,
   "id": "815547c3-81b9-4767-92df-8ef3fa129fe4",
   "metadata": {},
   "outputs": [
    {
     "name": "stdout",
     "output_type": "stream",
     "text": [
      "[0, 1]\n"
     ]
    }
   ],
   "source": [
    "nums = [2, 7, 11, 15]\n",
    "target = 9\n",
    "print(two_sum(nums, target))"
   ]
  },
  {
   "cell_type": "code",
   "execution_count": 19,
   "id": "3a1fad92-9f64-4ef2-b02e-a48b66360340",
   "metadata": {},
   "outputs": [],
   "source": [
    "#Count Pairs Whose Sum is Less than Target\n",
    "#level easy\n",
    "def countPairs(nums, target):\n",
    "    pair_sums = []\n",
    "    \n",
    "    for i in range(len(nums)):\n",
    "        \n",
    "        for j in range(i + 1, len(nums)):\n",
    "            \n",
    "            if nums[i] + nums[j] < target:\n",
    "                \n",
    "                pair_sums.append(nums[i] + nums[j])\n",
    "\n",
    "    return len(pair_sums)  \n",
    "\n",
    "    \n",
    "    \n",
    "\n",
    "\n",
    "\n"
   ]
  },
  {
   "cell_type": "code",
   "execution_count": 21,
   "id": "8a552155-ab7f-4296-804e-aa5e57c50f5d",
   "metadata": {},
   "outputs": [
    {
     "name": "stdout",
     "output_type": "stream",
     "text": [
      "3\n"
     ]
    }
   ],
   "source": [
    "nums = [-1,1,2,3,1]\n",
    "target = 2\n",
    "print(countPairs(nums, target))"
   ]
  },
  {
   "cell_type": "code",
   "execution_count": 23,
   "id": "4cc84fe7-8a49-4fdf-8660-c3db64d6683d",
   "metadata": {},
   "outputs": [],
   "source": [
    "#Count the Number of Fair Pairs\n",
    "#level medium\n",
    "def countFairPairs(nums, lower, upper):\n",
    "    fair_pairs = []\n",
    "    \n",
    "    for i in range(len(nums)):\n",
    "        \n",
    "        \n",
    "        for j in range(i + 1, len(nums)):\n",
    "            \n",
    "            if lower <= nums[i] + nums[j] <= upper:\n",
    "                               \n",
    "                fair_pairs.append((i,j))  \n",
    "                \n",
    "    return len(fair_pairs)\n",
    "            \n",
    "            \n",
    "            "
   ]
  },
  {
   "cell_type": "code",
   "execution_count": 25,
   "id": "5ed049fb-0c23-4750-9fa0-4b26c9b75d25",
   "metadata": {},
   "outputs": [
    {
     "data": {
      "text/plain": [
       "6"
      ]
     },
     "execution_count": 25,
     "metadata": {},
     "output_type": "execute_result"
    }
   ],
   "source": [
    "nums = [0,1,7,4,4,5]\n",
    "lower = 3\n",
    "upper = 6\n",
    "countFairPairs(nums, lower, upper)"
   ]
  },
  {
   "cell_type": "code",
   "execution_count": 27,
   "id": "840f33be-0e73-454a-94a4-6a38c8086f5b",
   "metadata": {},
   "outputs": [],
   "source": [
    "fair_pairs = [(0, 3), (0, 4), (0, 5), (1, 3), (1, 4), (1, 5)]\n"
   ]
  },
  {
   "cell_type": "code",
   "execution_count": 29,
   "id": "94768bc1-748a-466c-a4df-921ee590469a",
   "metadata": {},
   "outputs": [
    {
     "data": {
      "text/plain": [
       "((0, 3), (0, 4), (0, 5), (1, 3), (1, 4), (1, 5))"
      ]
     },
     "execution_count": 29,
     "metadata": {},
     "output_type": "execute_result"
    }
   ],
   "source": [
    "tuple(fair_pairs)"
   ]
  },
  {
   "cell_type": "code",
   "execution_count": 39,
   "id": "6513429c-7cba-4d3c-ae4d-a378e393ca1b",
   "metadata": {},
   "outputs": [],
   "source": [
    "#Add Two Numbers\n",
    "#level medium\n",
    "\n",
    "\n",
    "def addTwoNumbers(l1, l2):\n",
    "    reversed_l1 = l1[::-1]\n",
    "    \n",
    "    reversed_l2 = l2[::-1]\n",
    "    \n",
    "    \n",
    "    num_l1 = \"\".join(str(x) for x in l1)  # '123'\n",
    "    num1 = int(num_l1)\n",
    "    \n",
    "    num_l2 = \"\".join(str(x) for x in l2)  # '123'\n",
    "    num2 = int(num_l2)\n",
    "\n",
    "    \n",
    "    result = num1 + num2\n",
    "\n",
    "\n",
    "    last_result = [int(d) for d in str(result)]\n",
    "\n",
    "    return last_result[::-1]\n",
    "    \n",
    "    \n",
    "    "
   ]
  },
  {
   "cell_type": "code",
   "execution_count": 41,
   "id": "797a8a87-6d20-49fe-8a10-abe23b5299ef",
   "metadata": {},
   "outputs": [
    {
     "data": {
      "text/plain": [
       "[7, 0, 8]"
      ]
     },
     "execution_count": 41,
     "metadata": {},
     "output_type": "execute_result"
    }
   ],
   "source": [
    "l1 = [2,4,3]\n",
    "l2 = [5,6,4]\n",
    "addTwoNumbers(l1, l2)"
   ]
  },
  {
   "cell_type": "code",
   "execution_count": 45,
   "id": "18c878f0-e8f4-4f42-9e0d-987dc60a3f37",
   "metadata": {},
   "outputs": [
    {
     "name": "stderr",
     "output_type": "stream",
     "text": [
      "warning: in the working copy of 'leetcode_examples.ipynb', LF will be replaced by CRLF the next time Git touches it\n",
      "error: switch `m' requires a value\n"
     ]
    }
   ],
   "source": [
    "!git add leetcode_examples.ipynb\n",
    "!git commit -m \n"
   ]
  },
  {
   "cell_type": "code",
   "execution_count": null,
   "id": "190f2370-ab83-42d6-ad31-9f7294cc2c5a",
   "metadata": {},
   "outputs": [],
   "source": []
  }
 ],
 "metadata": {
  "kernelspec": {
   "display_name": "Python 3 (ipykernel)",
   "language": "python",
   "name": "python3"
  },
  "language_info": {
   "codemirror_mode": {
    "name": "ipython",
    "version": 3
   },
   "file_extension": ".py",
   "mimetype": "text/x-python",
   "name": "python",
   "nbconvert_exporter": "python",
   "pygments_lexer": "ipython3",
   "version": "3.12.4"
  }
 },
 "nbformat": 4,
 "nbformat_minor": 5
}
