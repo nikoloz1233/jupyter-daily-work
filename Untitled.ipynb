{
 "cells": [
  {
   "cell_type": "code",
   "execution_count": 27,
   "id": "a4bdfd6c-6089-4dfe-8ecc-1d873ff66de5",
   "metadata": {},
   "outputs": [
    {
     "name": "stdin",
     "output_type": "stream",
     "text": [
      "How many characters should your password be?  5\n"
     ]
    },
    {
     "name": "stdout",
     "output_type": "stream",
     "text": [
      "\n",
      "Your generated password is:\n",
      "N~;V7\n"
     ]
    }
   ],
   "source": [
    "import random\n",
    "import string\n",
    "\n",
    "def generate_password():\n",
    "    while True:\n",
    "        try:\n",
    "            password_length = int(input(\"How many characters should your password be? \"))\n",
    "            break\n",
    "        except ValueError:\n",
    "            print(\"Please enter a valid number!\")\n",
    "\n",
    "    chars = string.ascii_letters + string.digits + string.punctuation\n",
    "    \n",
    "    print(\"\\nYour generated password is:\")\n",
    "    print(password)\n",
    "\n",
    "generate_password()\n"
   ]
  },
  {
   "cell_type": "code",
   "execution_count": 31,
   "id": "3cfe89a4-adb9-4612-96af-47db19d576e2",
   "metadata": {},
   "outputs": [
    {
     "name": "stdin",
     "output_type": "stream",
     "text": [
      "How many characters should your password be?  f\n"
     ]
    },
    {
     "name": "stdout",
     "output_type": "stream",
     "text": [
      "Please enter a valid number!\n"
     ]
    },
    {
     "name": "stdin",
     "output_type": "stream",
     "text": [
      "How many characters should your password be?  5\n"
     ]
    },
    {
     "name": "stdout",
     "output_type": "stream",
     "text": [
      "\n",
      "Your generated password is:\n",
      "P|Jy1\n"
     ]
    }
   ],
   "source": [
    "generate_password()"
   ]
  },
  {
   "cell_type": "code",
   "execution_count": 33,
   "id": "e3e77e2e-5dd2-4351-af44-347d343324d9",
   "metadata": {},
   "outputs": [
    {
     "ename": "TypeError",
     "evalue": "can only concatenate str (not \"int\") to str",
     "output_type": "error",
     "traceback": [
      "\u001b[1;31m---------------------------------------------------------------------------\u001b[0m",
      "\u001b[1;31mTypeError\u001b[0m                                 Traceback (most recent call last)",
      "Cell \u001b[1;32mIn[33], line 4\u001b[0m\n\u001b[0;32m      1\u001b[0m a \u001b[38;5;241m=\u001b[39m \u001b[38;5;124m\"\u001b[39m\u001b[38;5;124m5\u001b[39m\u001b[38;5;124m\"\u001b[39m  \u001b[38;5;66;03m# string type\u001b[39;00m\n\u001b[0;32m      2\u001b[0m b \u001b[38;5;241m=\u001b[39m \u001b[38;5;241m2\u001b[39m    \u001b[38;5;66;03m# integer type\u001b[39;00m\n\u001b[1;32m----> 4\u001b[0m \u001b[38;5;28mprint\u001b[39m(a \u001b[38;5;241m+\u001b[39m b)\n",
      "\u001b[1;31mTypeError\u001b[0m: can only concatenate str (not \"int\") to str"
     ]
    }
   ],
   "source": [
    "a = \"5\"  # string type\n",
    "b = 2    # integer type\n",
    "\n",
    "print(a + b)\n"
   ]
  },
  {
   "cell_type": "code",
   "execution_count": 35,
   "id": "93053662-c5ef-494e-a9bb-5039765d3511",
   "metadata": {},
   "outputs": [
    {
     "name": "stdout",
     "output_type": "stream",
     "text": [
      "<class 'int'>\n",
      "<class 'str'>\n",
      "<class 'float'>\n"
     ]
    }
   ],
   "source": [
    "x = 5\n",
    "print(type(x))\n",
    "\n",
    "x = \"hello\"\n",
    "print(type(x))\n",
    "\n",
    "x = 3.14\n",
    "print(type(x))\n"
   ]
  },
  {
   "cell_type": "code",
   "execution_count": 37,
   "id": "064e35e4-89ab-4f58-a72d-b808e25a9fff",
   "metadata": {},
   "outputs": [
    {
     "name": "stdout",
     "output_type": "stream",
     "text": [
      "b'\\xe1\\x83\\x92\\xe1\\x83\\x90\\xe1\\x83\\x9b\\xe1\\x83\\x90\\xe1\\x83\\xa0\\xe1\\x83\\xaf\\xe1\\x83\\x9d\\xe1\\x83\\x91\\xe1\\x83\\x90'\n",
      "გამარჯობა\n"
     ]
    }
   ],
   "source": [
    "message = \"გამარჯობა\"  # Hello in Georgian\n",
    "encoded = message.encode('utf-8')\n",
    "print(encoded)\n",
    "decoded = encoded.decode('utf-8')\n",
    "print(decoded)\n"
   ]
  },
  {
   "cell_type": "code",
   "execution_count": 41,
   "id": "d89f3e5d-41f1-4f3e-ac72-aca993e7a3e5",
   "metadata": {},
   "outputs": [],
   "source": [
    "x = [1, 2]\n",
    "x = x + [1]"
   ]
  },
  {
   "cell_type": "code",
   "execution_count": 43,
   "id": "6cfb5f5c-d2e2-4407-be18-e0519677d579",
   "metadata": {},
   "outputs": [
    {
     "data": {
      "text/plain": [
       "[1, 2, 1]"
      ]
     },
     "execution_count": 43,
     "metadata": {},
     "output_type": "execute_result"
    }
   ],
   "source": [
    "x"
   ]
  },
  {
   "cell_type": "code",
   "execution_count": 47,
   "id": "6d0dd024-187b-41c4-9f9d-84f1689c1dd4",
   "metadata": {},
   "outputs": [
    {
     "name": "stdout",
     "output_type": "stream",
     "text": [
      "2\n"
     ]
    }
   ],
   "source": [
    "print(3 and 2)   # 0\n"
   ]
  },
  {
   "cell_type": "code",
   "execution_count": null,
   "id": "077555a4-870e-4edc-b471-0508900a2d05",
   "metadata": {},
   "outputs": [],
   "source": []
  }
 ],
 "metadata": {
  "kernelspec": {
   "display_name": "Python 3 (ipykernel)",
   "language": "python",
   "name": "python3"
  },
  "language_info": {
   "codemirror_mode": {
    "name": "ipython",
    "version": 3
   },
   "file_extension": ".py",
   "mimetype": "text/x-python",
   "name": "python",
   "nbconvert_exporter": "python",
   "pygments_lexer": "ipython3",
   "version": "3.12.4"
  }
 },
 "nbformat": 4,
 "nbformat_minor": 5
}
