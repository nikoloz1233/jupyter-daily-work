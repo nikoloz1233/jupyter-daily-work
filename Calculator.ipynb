{
 "cells": [
  {
   "cell_type": "code",
   "execution_count": 1,
   "id": "7cce5e8b-0077-45d1-8370-78f96c70845b",
   "metadata": {},
   "outputs": [
    {
     "name": "stdout",
     "output_type": "stream",
     "text": [
      "\n",
      "Select operation: +, -, *, / or 'exit' to quit\n"
     ]
    },
    {
     "name": "stdin",
     "output_type": "stream",
     "text": [
      "Enter operation:  -\n",
      "Enter first number:  4\n",
      "Enter second number:  3\n"
     ]
    },
    {
     "name": "stdout",
     "output_type": "stream",
     "text": [
      "✅ Result: 1.0\n",
      "\n",
      "Select operation: +, -, *, / or 'exit' to quit\n"
     ]
    },
    {
     "name": "stdin",
     "output_type": "stream",
     "text": [
      "Enter operation:  Exit\n"
     ]
    },
    {
     "name": "stdout",
     "output_type": "stream",
     "text": [
      "Exiting calculator... Goodbye!\n"
     ]
    }
   ],
   "source": [
    "def calculator():\n",
    "    while True:\n",
    "        print(\"\\nSelect operation: +, -, *, / or 'exit' to quit\")\n",
    "        operator = input(\"Enter operation: \")\n",
    "\n",
    "        if operator.lower() == 'exit':\n",
    "            print(\"Exiting calculator... Goodbye!\")\n",
    "            break\n",
    "\n",
    "        \n",
    "        try:\n",
    "            num1 = float(input(\"Enter first number: \"))\n",
    "            num2 = float(input(\"Enter second number: \"))\n",
    "        except ValueError:\n",
    "            print(\" Invalid input. Please enter numbers only.\")\n",
    "            continue\n",
    "\n",
    "        \n",
    "        if operator == '+':\n",
    "            print(f\" Result: {num1 + num2}\")\n",
    "        elif operator == '-':\n",
    "            print(f\" Result: {num1 - num2}\")\n",
    "        elif operator == '*':\n",
    "            print(f\" Result: {num1 * num2}\")\n",
    "        elif operator == '/':\n",
    "            try:\n",
    "                result = num1 / num2\n",
    "                print(f\" Result: {result}\")\n",
    "            except ZeroDivisionError:\n",
    "                print(\" Error: Cannot divide by zero.\")\n",
    "        else:\n",
    "            print(\" Invalid operator. Please choose +, -, *, or /.\")\n",
    "\n",
    "\n",
    "calculator()\n"
   ]
  },
  {
   "cell_type": "code",
   "execution_count": null,
   "id": "3dd7b10c-e889-460e-9f6c-f420ed9841f1",
   "metadata": {},
   "outputs": [],
   "source": []
  }
 ],
 "metadata": {
  "kernelspec": {
   "display_name": "Python 3 (ipykernel)",
   "language": "python",
   "name": "python3"
  },
  "language_info": {
   "codemirror_mode": {
    "name": "ipython",
    "version": 3
   },
   "file_extension": ".py",
   "mimetype": "text/x-python",
   "name": "python",
   "nbconvert_exporter": "python",
   "pygments_lexer": "ipython3",
   "version": "3.12.4"
  }
 },
 "nbformat": 4,
 "nbformat_minor": 5
}
